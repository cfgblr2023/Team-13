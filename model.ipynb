{
 "cells": [
  {
   "cell_type": "code",
   "execution_count": 1,
   "id": "686c928b",
   "metadata": {},
   "outputs": [],
   "source": [
    "import pandas as pd\n",
    "import os\n",
    "import cv2\n",
    "import numpy as np\n",
    "from sklearn.model_selection import train_test_split\n",
    "\n",
    "# Load data from Excel sheet\n",
    "excel_file_path = r'C:\\Users\\anush\\Downloads\\category.xlsx'\n",
    "df = pd.read_excel(excel_file_path)\n",
    "\n",
    "# Create a mapping between image file names and categories\n",
    "image_file_to_category = dict(zip(df['Photo'], df['Category']))\n",
    "\n",
    "# Load images and their corresponding labels\n",
    "image_data = []\n",
    "labels = []\n",
    "images_folder = r'C:\\Users\\anush\\Downloads\\images\\Photos_Walking Audit'\n",
    "for image_file in os.listdir(images_folder):\n",
    "    if image_file in image_file_to_category:\n",
    "        image_path = os.path.join(images_folder, image_file)\n",
    "        image = cv2.imread(image_path)\n",
    "        image = cv2.resize(image, (224, 224))  # Resize image to (224, 224) or any other desired size\n",
    "        image = image.astype('float32') / 255.0  # Normalize pixel values to [0, 1]\n",
    "        image_data.append(image)\n",
    "        labels.append(image_file_to_category[image_file])\n",
    "\n",
    "# Convert lists to numpy arrays\n",
    "image_data = np.array(image_data)\n",
    "labels = np.array(labels)\n",
    "\n",
    "# Split the data into training and testing sets\n",
    "train_data, test_data, train_labels, test_labels = train_test_split(image_data, labels, test_size=0.2, random_state=42)"
   ]
  },
  {
   "cell_type": "code",
   "execution_count": 2,
   "id": "e6f34c36",
   "metadata": {},
   "outputs": [
    {
     "data": {
      "text/plain": [
       "array([[[[1.        , 0.99607843, 0.99215686],\n",
       "         [0.99607843, 0.99607843, 0.99215686],\n",
       "         [0.99215686, 0.9843137 , 0.98039216],\n",
       "         ...,\n",
       "         [0.8352941 , 0.76862746, 0.7176471 ],\n",
       "         [0.8352941 , 0.76862746, 0.7176471 ],\n",
       "         [0.83137256, 0.7647059 , 0.7137255 ]],\n",
       "\n",
       "        [[1.        , 0.9882353 , 0.9843137 ],\n",
       "         [0.9372549 , 0.9254902 , 0.92156863],\n",
       "         [0.99607843, 0.99215686, 0.9882353 ],\n",
       "         ...,\n",
       "         [0.8352941 , 0.76862746, 0.7176471 ],\n",
       "         [0.8352941 , 0.76862746, 0.7176471 ],\n",
       "         [0.8392157 , 0.77254903, 0.72156864]],\n",
       "\n",
       "        [[0.9843137 , 0.98039216, 0.9764706 ],\n",
       "         [0.6901961 , 0.6392157 , 0.6431373 ],\n",
       "         [0.98039216, 0.9843137 , 0.98039216],\n",
       "         ...,\n",
       "         [0.8392157 , 0.77254903, 0.72156864],\n",
       "         [0.8392157 , 0.77254903, 0.72156864],\n",
       "         [0.8392157 , 0.77254903, 0.72156864]],\n",
       "\n",
       "        ...,\n",
       "\n",
       "        [[0.5568628 , 0.60784316, 0.6392157 ],\n",
       "         [0.56078434, 0.6117647 , 0.6431373 ],\n",
       "         [0.5686275 , 0.61960787, 0.6509804 ],\n",
       "         ...,\n",
       "         [0.6745098 , 0.7607843 , 0.8039216 ],\n",
       "         [0.6745098 , 0.7607843 , 0.8039216 ],\n",
       "         [0.6745098 , 0.7607843 , 0.8039216 ]],\n",
       "\n",
       "        [[0.5568628 , 0.61960787, 0.64705884],\n",
       "         [0.5568628 , 0.61960787, 0.64705884],\n",
       "         [0.54509807, 0.60784316, 0.63529414],\n",
       "         ...,\n",
       "         [0.6745098 , 0.7607843 , 0.8039216 ],\n",
       "         [0.6784314 , 0.7647059 , 0.80784315],\n",
       "         [0.67058825, 0.75686276, 0.8       ]],\n",
       "\n",
       "        [[0.54901963, 0.6117647 , 0.6392157 ],\n",
       "         [0.5411765 , 0.6039216 , 0.6313726 ],\n",
       "         [0.54901963, 0.6117647 , 0.6392157 ],\n",
       "         ...,\n",
       "         [0.6745098 , 0.7607843 , 0.8039216 ],\n",
       "         [0.67058825, 0.75686276, 0.8       ],\n",
       "         [0.67058825, 0.75686276, 0.8       ]]],\n",
       "\n",
       "\n",
       "       [[[0.26666668, 0.2784314 , 0.29411766],\n",
       "         [0.28627452, 0.29803923, 0.3137255 ],\n",
       "         [0.34901962, 0.36078432, 0.38039216],\n",
       "         ...,\n",
       "         [0.80784315, 0.7607843 , 0.72156864],\n",
       "         [0.80784315, 0.7607843 , 0.72156864],\n",
       "         [0.8       , 0.7529412 , 0.7137255 ]],\n",
       "\n",
       "        [[0.34117648, 0.3529412 , 0.36862746],\n",
       "         [0.3882353 , 0.4       , 0.41568628],\n",
       "         [0.43529412, 0.4627451 , 0.49803922],\n",
       "         ...,\n",
       "         [0.8392157 , 0.7921569 , 0.7529412 ],\n",
       "         [0.79607844, 0.7490196 , 0.70980394],\n",
       "         [0.79607844, 0.7490196 , 0.70980394]],\n",
       "\n",
       "        [[0.41568628, 0.42745098, 0.44313726],\n",
       "         [0.43137255, 0.44313726, 0.45882353],\n",
       "         [0.4392157 , 0.45882353, 0.45490196],\n",
       "         ...,\n",
       "         [0.8156863 , 0.76862746, 0.7294118 ],\n",
       "         [0.79607844, 0.7490196 , 0.70980394],\n",
       "         [0.8156863 , 0.77254903, 0.73333335]],\n",
       "\n",
       "        ...,\n",
       "\n",
       "        [[0.19607843, 0.23921569, 0.27058825],\n",
       "         [0.23137255, 0.27450982, 0.30588236],\n",
       "         [0.23529412, 0.2509804 , 0.29411766],\n",
       "         ...,\n",
       "         [0.3529412 , 0.36862746, 0.3882353 ],\n",
       "         [0.41960785, 0.44705883, 0.45490196],\n",
       "         [0.33333334, 0.4       , 0.42352942]],\n",
       "\n",
       "        [[0.24705882, 0.2901961 , 0.32156864],\n",
       "         [0.22352941, 0.27058825, 0.3019608 ],\n",
       "         [0.24313726, 0.32941177, 0.37254903],\n",
       "         ...,\n",
       "         [0.41568628, 0.45490196, 0.47058824],\n",
       "         [0.3529412 , 0.39607844, 0.4       ],\n",
       "         [0.3529412 , 0.3882353 , 0.41568628]],\n",
       "\n",
       "        [[0.24705882, 0.2901961 , 0.32156864],\n",
       "         [0.21568628, 0.25882354, 0.2901961 ],\n",
       "         [0.22352941, 0.27058825, 0.28627452],\n",
       "         ...,\n",
       "         [0.3882353 , 0.43137255, 0.44705883],\n",
       "         [0.5803922 , 0.62352943, 0.6392157 ],\n",
       "         [0.3882353 , 0.43137255, 0.44705883]]],\n",
       "\n",
       "\n",
       "       [[[0.7058824 , 0.74509805, 0.78431374],\n",
       "         [0.70980394, 0.7490196 , 0.7882353 ],\n",
       "         [0.7058824 , 0.7490196 , 0.78039217],\n",
       "         ...,\n",
       "         [0.9843137 , 0.99215686, 0.99215686],\n",
       "         [0.99215686, 1.        , 1.        ],\n",
       "         [0.99215686, 1.        , 1.        ]],\n",
       "\n",
       "        [[0.7058824 , 0.74509805, 0.78431374],\n",
       "         [0.7058824 , 0.74509805, 0.78431374],\n",
       "         [0.7019608 , 0.7490196 , 0.78039217],\n",
       "         ...,\n",
       "         [0.9882353 , 0.99607843, 0.9764706 ],\n",
       "         [1.        , 1.        , 0.99607843],\n",
       "         [1.        , 1.        , 1.        ]],\n",
       "\n",
       "        [[0.7137255 , 0.7529412 , 0.7921569 ],\n",
       "         [0.7176471 , 0.75686276, 0.79607844],\n",
       "         [0.72156864, 0.7647059 , 0.79607844],\n",
       "         ...,\n",
       "         [0.5058824 , 0.5058824 , 0.46666667],\n",
       "         [1.        , 1.        , 0.99215686],\n",
       "         [1.        , 0.99607843, 1.        ]],\n",
       "\n",
       "        ...,\n",
       "\n",
       "        [[0.3764706 , 0.52156866, 0.76862746],\n",
       "         [0.02352941, 0.11372549, 0.32941177],\n",
       "         [0.23921569, 0.36078432, 0.6313726 ],\n",
       "         ...,\n",
       "         [0.39607844, 0.5254902 , 0.7137255 ],\n",
       "         [0.32156864, 0.47058824, 0.68235296],\n",
       "         [0.20784314, 0.32156864, 0.54509807]],\n",
       "\n",
       "        [[0.23921569, 0.3254902 , 0.5921569 ],\n",
       "         [0.28627452, 0.3647059 , 0.6039216 ],\n",
       "         [0.14117648, 0.24313726, 0.49411765],\n",
       "         ...,\n",
       "         [0.48235294, 0.61960787, 0.77254903],\n",
       "         [0.49019608, 0.6392157 , 0.7882353 ],\n",
       "         [0.49411765, 0.6431373 , 0.8235294 ]],\n",
       "\n",
       "        [[0.2627451 , 0.3529412 , 0.60784316],\n",
       "         [0.20784314, 0.3647059 , 0.60784316],\n",
       "         [0.2784314 , 0.39215687, 0.63529414],\n",
       "         ...,\n",
       "         [0.5058824 , 0.6431373 , 0.8       ],\n",
       "         [0.50980395, 0.64705884, 0.8039216 ],\n",
       "         [0.5058824 , 0.6392157 , 0.8       ]]],\n",
       "\n",
       "\n",
       "       ...,\n",
       "\n",
       "\n",
       "       [[[0.4117647 , 0.5411765 , 0.6039216 ],\n",
       "         [0.34509805, 0.54509807, 0.6313726 ],\n",
       "         [0.3019608 , 0.56078434, 0.65882355],\n",
       "         ...,\n",
       "         [0.13333334, 0.17254902, 0.23921569],\n",
       "         [0.12941177, 0.19215687, 0.25490198],\n",
       "         [0.15686275, 0.22352941, 0.3019608 ]],\n",
       "\n",
       "        [[0.34117648, 0.48235294, 0.5372549 ],\n",
       "         [0.2901961 , 0.47058824, 0.53333336],\n",
       "         [0.25882354, 0.47843137, 0.5529412 ],\n",
       "         ...,\n",
       "         [0.11372549, 0.1882353 , 0.24705882],\n",
       "         [0.12156863, 0.20392157, 0.2627451 ],\n",
       "         [0.16470589, 0.23529412, 0.3019608 ]],\n",
       "\n",
       "        [[0.24313726, 0.20392157, 0.19607843],\n",
       "         [0.23529412, 0.21960784, 0.2       ],\n",
       "         [0.23137255, 0.21960784, 0.20784314],\n",
       "         ...,\n",
       "         [0.14117648, 0.20784314, 0.27058825],\n",
       "         [0.16862746, 0.22352941, 0.28627452],\n",
       "         [0.16078432, 0.20784314, 0.22745098]],\n",
       "\n",
       "        ...,\n",
       "\n",
       "        [[0.32941177, 0.57254905, 0.6509804 ],\n",
       "         [0.5294118 , 0.5921569 , 0.6431373 ],\n",
       "         [0.2       , 0.3882353 , 0.47843137],\n",
       "         ...,\n",
       "         [0.37254903, 0.40784314, 0.42352942],\n",
       "         [0.29803923, 0.30588236, 0.31764707],\n",
       "         [0.28235295, 0.28627452, 0.27058825]],\n",
       "\n",
       "        [[0.40784314, 0.48235294, 0.52156866],\n",
       "         [0.3647059 , 0.54509807, 0.6       ],\n",
       "         [0.12156863, 0.31764707, 0.43137255],\n",
       "         ...,\n",
       "         [0.5568628 , 0.6313726 , 0.6745098 ],\n",
       "         [0.6117647 , 0.6627451 , 0.70980394],\n",
       "         [0.5254902 , 0.54901963, 0.5411765 ]],\n",
       "\n",
       "        [[0.41568628, 0.5019608 , 0.5647059 ],\n",
       "         [0.2784314 , 0.49803922, 0.59607846],\n",
       "         [0.2       , 0.4117647 , 0.5411765 ],\n",
       "         ...,\n",
       "         [0.57254905, 0.65882355, 0.7019608 ],\n",
       "         [0.61960787, 0.6784314 , 0.7254902 ],\n",
       "         [0.6627451 , 0.7176471 , 0.7372549 ]]],\n",
       "\n",
       "\n",
       "       [[[0.12941177, 0.26666668, 0.36078432],\n",
       "         [0.10980392, 0.24705882, 0.34117648],\n",
       "         [0.07450981, 0.20784314, 0.30588236],\n",
       "         ...,\n",
       "         [0.12156863, 0.20784314, 0.39215687],\n",
       "         [0.29803923, 0.36078432, 0.47843137],\n",
       "         [0.6392157 , 0.7019608 , 0.8156863 ]],\n",
       "\n",
       "        [[0.39607844, 0.48235294, 0.5647059 ],\n",
       "         [0.43529412, 0.52156866, 0.6039216 ],\n",
       "         [0.44313726, 0.53333336, 0.6156863 ],\n",
       "         ...,\n",
       "         [0.6313726 , 0.7019608 , 0.81960785],\n",
       "         [0.6313726 , 0.69803923, 0.8       ],\n",
       "         [0.6117647 , 0.6784314 , 0.78039217]],\n",
       "\n",
       "        [[0.47843137, 0.6156863 , 0.7254902 ],\n",
       "         [0.48235294, 0.61960787, 0.7294118 ],\n",
       "         [0.47058824, 0.6117647 , 0.7176471 ],\n",
       "         ...,\n",
       "         [0.5568628 , 0.60784316, 0.68235296],\n",
       "         [0.5921569 , 0.6627451 , 0.75686276],\n",
       "         [0.5882353 , 0.65882355, 0.7529412 ]],\n",
       "\n",
       "        ...,\n",
       "\n",
       "        [[0.32156864, 0.35686275, 0.37254903],\n",
       "         [0.30980393, 0.34509805, 0.36078432],\n",
       "         [0.29411766, 0.32941177, 0.34509805],\n",
       "         ...,\n",
       "         [0.2901961 , 0.30980393, 0.30588236],\n",
       "         [0.38039216, 0.40784314, 0.43137255],\n",
       "         [0.40392157, 0.43137255, 0.45882353]],\n",
       "\n",
       "        [[0.40392157, 0.42745098, 0.43137255],\n",
       "         [0.32156864, 0.34509805, 0.34901962],\n",
       "         [0.33333334, 0.36078432, 0.36078432],\n",
       "         ...,\n",
       "         [0.4       , 0.41960785, 0.41568628],\n",
       "         [0.34509805, 0.36862746, 0.3764706 ],\n",
       "         [0.3137255 , 0.3372549 , 0.34509805]],\n",
       "\n",
       "        [[0.3372549 , 0.3647059 , 0.3764706 ],\n",
       "         [0.32156864, 0.34509805, 0.3647059 ],\n",
       "         [0.3019608 , 0.3254902 , 0.3529412 ],\n",
       "         ...,\n",
       "         [0.41568628, 0.43529412, 0.44705883],\n",
       "         [0.3882353 , 0.41568628, 0.44313726],\n",
       "         [0.31764707, 0.34901962, 0.34509805]]],\n",
       "\n",
       "\n",
       "       [[[0.36078432, 0.38039216, 0.39215687],\n",
       "         [0.2784314 , 0.29803923, 0.30980393],\n",
       "         [0.30980393, 0.32941177, 0.34117648],\n",
       "         ...,\n",
       "         [0.9098039 , 0.9019608 , 0.9254902 ],\n",
       "         [0.94509804, 0.94509804, 0.96862745],\n",
       "         [0.8980392 , 0.9098039 , 0.93333334]],\n",
       "\n",
       "        [[0.26666668, 0.28627452, 0.29803923],\n",
       "         [0.30588236, 0.3254902 , 0.3372549 ],\n",
       "         [0.32941177, 0.34901962, 0.36078432],\n",
       "         ...,\n",
       "         [0.9019608 , 0.89411765, 0.91764706],\n",
       "         [0.91764706, 0.91764706, 0.9372549 ],\n",
       "         [0.9529412 , 0.9647059 , 0.9882353 ]],\n",
       "\n",
       "        [[0.28627452, 0.30588236, 0.31764707],\n",
       "         [0.34117648, 0.36078432, 0.37254903],\n",
       "         [0.35686275, 0.3764706 , 0.3882353 ],\n",
       "         ...,\n",
       "         [0.9764706 , 0.972549  , 0.99215686],\n",
       "         [0.972549  , 0.9764706 , 0.99215686],\n",
       "         [0.9607843 , 0.9764706 , 0.99215686]],\n",
       "\n",
       "        ...,\n",
       "\n",
       "        [[0.6862745 , 0.6745098 , 0.65882355],\n",
       "         [0.6784314 , 0.6666667 , 0.6509804 ],\n",
       "         [0.7137255 , 0.6901961 , 0.6862745 ],\n",
       "         ...,\n",
       "         [0.52156866, 0.5686275 , 0.57254905],\n",
       "         [0.53333336, 0.58431375, 0.5882353 ],\n",
       "         [0.5411765 , 0.5882353 , 0.5921569 ]],\n",
       "\n",
       "        [[0.6745098 , 0.6627451 , 0.64705884],\n",
       "         [0.6862745 , 0.6745098 , 0.65882355],\n",
       "         [0.69411767, 0.6784314 , 0.6745098 ],\n",
       "         ...,\n",
       "         [0.5568628 , 0.62352943, 0.6392157 ],\n",
       "         [0.4627451 , 0.50980395, 0.5294118 ],\n",
       "         [0.54901963, 0.60784316, 0.627451  ]],\n",
       "\n",
       "        [[0.654902  , 0.6431373 , 0.627451  ],\n",
       "         [0.61960787, 0.60784316, 0.5921569 ],\n",
       "         [0.6392157 , 0.63529414, 0.6313726 ],\n",
       "         ...,\n",
       "         [0.5137255 , 0.6       , 0.61960787],\n",
       "         [0.52156866, 0.5882353 , 0.6       ],\n",
       "         [0.44313726, 0.49411765, 0.5019608 ]]]], dtype=float32)"
      ]
     },
     "execution_count": 2,
     "metadata": {},
     "output_type": "execute_result"
    }
   ],
   "source": [
    "train_data\n"
   ]
  },
  {
   "cell_type": "code",
   "execution_count": 3,
   "id": "74c662bf",
   "metadata": {
    "scrolled": true
   },
   "outputs": [
    {
     "name": "stdout",
     "output_type": "stream",
     "text": [
      "Model: \"sequential\"\n",
      "_________________________________________________________________\n",
      " Layer (type)                Output Shape              Param #   \n",
      "=================================================================\n",
      " conv2d (Conv2D)             (None, 222, 222, 32)      896       \n",
      "                                                                 \n",
      " max_pooling2d (MaxPooling2D  (None, 111, 111, 32)     0         \n",
      " )                                                               \n",
      "                                                                 \n",
      " conv2d_1 (Conv2D)           (None, 109, 109, 64)      18496     \n",
      "                                                                 \n",
      " max_pooling2d_1 (MaxPooling  (None, 54, 54, 64)       0         \n",
      " 2D)                                                             \n",
      "                                                                 \n",
      " conv2d_2 (Conv2D)           (None, 52, 52, 128)       73856     \n",
      "                                                                 \n",
      " max_pooling2d_2 (MaxPooling  (None, 26, 26, 128)      0         \n",
      " 2D)                                                             \n",
      "                                                                 \n",
      " flatten (Flatten)           (None, 86528)             0         \n",
      "                                                                 \n",
      " dense (Dense)               (None, 256)               22151424  \n",
      "                                                                 \n",
      " dropout (Dropout)           (None, 256)               0         \n",
      "                                                                 \n",
      " dense_1 (Dense)             (None, 128)               32896     \n",
      "                                                                 \n",
      " dropout_1 (Dropout)         (None, 128)               0         \n",
      "                                                                 \n",
      " dense_2 (Dense)             (None, 5)                 645       \n",
      "                                                                 \n",
      "=================================================================\n",
      "Total params: 22,278,213\n",
      "Trainable params: 22,278,213\n",
      "Non-trainable params: 0\n",
      "_________________________________________________________________\n"
     ]
    }
   ],
   "source": [
    "import tensorflow as tf\n",
    "from tensorflow.keras.models import Sequential\n",
    "from tensorflow.keras.layers import Conv2D, MaxPooling2D, Flatten, Dense, Dropout\n",
    "\n",
    "\n",
    "model = Sequential()\n",
    "\n",
    "\n",
    "model.add(Conv2D(32, (3, 3), activation='relu', input_shape=(224, 224, 3)))\n",
    "model.add(MaxPooling2D((2, 2)))\n",
    "\n",
    "model.add(Conv2D(64, (3, 3), activation='relu'))\n",
    "model.add(MaxPooling2D((2, 2)))\n",
    "\n",
    "model.add(Conv2D(128, (3, 3), activation='relu'))\n",
    "model.add(MaxPooling2D((2, 2)))\n",
    "\n",
    "\n",
    "model.add(Flatten())\n",
    "\n",
    "# Fully connected layers\n",
    "model.add(Dense(256, activation='relu'))\n",
    "model.add(Dropout(0.5)) \n",
    "\n",
    "model.add(Dense(128, activation='relu'))\n",
    "model.add(Dropout(0.5))\n",
    "\n",
    "\n",
    "num_categories = 5 \n",
    "model.add(Dense(num_categories, activation='softmax'))\n",
    "\n",
    "\n",
    "model.compile(optimizer='adam', loss='categorical_crossentropy', metrics=['accuracy'])\n",
    "\n",
    "model.summary()\n"
   ]
  },
  {
   "cell_type": "code",
   "execution_count": 4,
   "id": "180578cd",
   "metadata": {
    "scrolled": true
   },
   "outputs": [
    {
     "name": "stdout",
     "output_type": "stream",
     "text": [
      "Epoch 1/50\n",
      "12/12 [==============================] - 26s 2s/step - loss: 1.9121 - accuracy: 0.3073 - val_loss: 1.3677 - val_accuracy: 0.3646\n",
      "Epoch 2/50\n",
      "12/12 [==============================] - 21s 2s/step - loss: 1.4349 - accuracy: 0.3411 - val_loss: 1.4169 - val_accuracy: 0.4688\n",
      "Epoch 3/50\n",
      "12/12 [==============================] - 22s 2s/step - loss: 1.3706 - accuracy: 0.4036 - val_loss: 1.2977 - val_accuracy: 0.4479\n",
      "Epoch 4/50\n",
      "12/12 [==============================] - 21s 2s/step - loss: 1.3400 - accuracy: 0.3984 - val_loss: 1.2423 - val_accuracy: 0.4375\n",
      "Epoch 5/50\n",
      "12/12 [==============================] - 21s 2s/step - loss: 1.2979 - accuracy: 0.4271 - val_loss: 1.2740 - val_accuracy: 0.4375\n",
      "Epoch 6/50\n",
      "12/12 [==============================] - 22s 2s/step - loss: 1.3006 - accuracy: 0.4688 - val_loss: 1.1525 - val_accuracy: 0.4583\n",
      "Epoch 7/50\n",
      "12/12 [==============================] - 21s 2s/step - loss: 1.1919 - accuracy: 0.4948 - val_loss: 1.1161 - val_accuracy: 0.4688\n",
      "Epoch 8/50\n",
      "12/12 [==============================] - 21s 2s/step - loss: 1.1283 - accuracy: 0.5365 - val_loss: 1.1132 - val_accuracy: 0.4583\n",
      "Epoch 9/50\n",
      "12/12 [==============================] - 21s 2s/step - loss: 1.0808 - accuracy: 0.5573 - val_loss: 1.0726 - val_accuracy: 0.4792\n",
      "Epoch 10/50\n",
      "12/12 [==============================] - 21s 2s/step - loss: 1.0149 - accuracy: 0.5625 - val_loss: 1.0499 - val_accuracy: 0.5312\n",
      "Epoch 11/50\n",
      "12/12 [==============================] - 21s 2s/step - loss: 1.0248 - accuracy: 0.5599 - val_loss: 1.0534 - val_accuracy: 0.5312\n",
      "Epoch 12/50\n",
      "12/12 [==============================] - 21s 2s/step - loss: 0.8852 - accuracy: 0.6458 - val_loss: 1.0660 - val_accuracy: 0.5312\n",
      "Epoch 13/50\n",
      "12/12 [==============================] - 21s 2s/step - loss: 0.7810 - accuracy: 0.6901 - val_loss: 1.0214 - val_accuracy: 0.5625\n",
      "Epoch 14/50\n",
      "12/12 [==============================] - 22s 2s/step - loss: 0.7530 - accuracy: 0.7109 - val_loss: 1.2356 - val_accuracy: 0.5417\n",
      "Epoch 15/50\n",
      "12/12 [==============================] - 21s 2s/step - loss: 0.6150 - accuracy: 0.7656 - val_loss: 1.1018 - val_accuracy: 0.5729\n",
      "Epoch 16/50\n",
      "12/12 [==============================] - 21s 2s/step - loss: 0.5484 - accuracy: 0.8099 - val_loss: 1.1001 - val_accuracy: 0.6458\n",
      "Epoch 17/50\n",
      "12/12 [==============================] - 21s 2s/step - loss: 0.3815 - accuracy: 0.8646 - val_loss: 1.3292 - val_accuracy: 0.5417\n",
      "Epoch 18/50\n",
      "12/12 [==============================] - 22s 2s/step - loss: 0.3424 - accuracy: 0.8750 - val_loss: 1.1827 - val_accuracy: 0.5833\n",
      "Epoch 19/50\n",
      "12/12 [==============================] - 22s 2s/step - loss: 0.3284 - accuracy: 0.8854 - val_loss: 1.2868 - val_accuracy: 0.6042\n",
      "Epoch 20/50\n",
      "12/12 [==============================] - 23s 2s/step - loss: 0.2811 - accuracy: 0.9089 - val_loss: 1.2995 - val_accuracy: 0.6354\n",
      "Epoch 21/50\n",
      "12/12 [==============================] - 22s 2s/step - loss: 0.1882 - accuracy: 0.9453 - val_loss: 1.6199 - val_accuracy: 0.6146\n",
      "Epoch 22/50\n",
      "12/12 [==============================] - 22s 2s/step - loss: 0.1681 - accuracy: 0.9375 - val_loss: 1.6431 - val_accuracy: 0.5625\n",
      "Epoch 23/50\n",
      "12/12 [==============================] - 22s 2s/step - loss: 0.2318 - accuracy: 0.9193 - val_loss: 1.4487 - val_accuracy: 0.6146\n",
      "Epoch 24/50\n",
      "12/12 [==============================] - 22s 2s/step - loss: 0.1529 - accuracy: 0.9505 - val_loss: 1.6115 - val_accuracy: 0.6250\n",
      "Epoch 25/50\n",
      "12/12 [==============================] - 24s 2s/step - loss: 0.1043 - accuracy: 0.9609 - val_loss: 2.0013 - val_accuracy: 0.6042\n",
      "Epoch 26/50\n",
      "12/12 [==============================] - 22s 2s/step - loss: 0.1101 - accuracy: 0.9557 - val_loss: 1.7247 - val_accuracy: 0.6042\n",
      "Epoch 27/50\n",
      "12/12 [==============================] - 23s 2s/step - loss: 0.1471 - accuracy: 0.9609 - val_loss: 1.7843 - val_accuracy: 0.6042\n",
      "Epoch 28/50\n",
      "12/12 [==============================] - 22s 2s/step - loss: 0.0771 - accuracy: 0.9688 - val_loss: 1.6349 - val_accuracy: 0.6042\n",
      "Epoch 29/50\n",
      "12/12 [==============================] - 22s 2s/step - loss: 0.0745 - accuracy: 0.9740 - val_loss: 2.0835 - val_accuracy: 0.6250\n",
      "Epoch 30/50\n",
      "12/12 [==============================] - 23s 2s/step - loss: 0.1255 - accuracy: 0.9453 - val_loss: 1.6954 - val_accuracy: 0.6562\n",
      "Epoch 31/50\n",
      "12/12 [==============================] - 24s 2s/step - loss: 0.0818 - accuracy: 0.9714 - val_loss: 2.0137 - val_accuracy: 0.5729\n",
      "Epoch 32/50\n",
      "12/12 [==============================] - 22s 2s/step - loss: 0.1099 - accuracy: 0.9609 - val_loss: 1.7135 - val_accuracy: 0.6250\n",
      "Epoch 33/50\n",
      "12/12 [==============================] - 23s 2s/step - loss: 0.0646 - accuracy: 0.9792 - val_loss: 1.9567 - val_accuracy: 0.6250\n",
      "Epoch 34/50\n",
      "12/12 [==============================] - 23s 2s/step - loss: 0.0556 - accuracy: 0.9792 - val_loss: 2.1639 - val_accuracy: 0.6146\n",
      "Epoch 35/50\n",
      "12/12 [==============================] - 23s 2s/step - loss: 0.0496 - accuracy: 0.9922 - val_loss: 2.2676 - val_accuracy: 0.6458\n",
      "Epoch 36/50\n",
      "12/12 [==============================] - 23s 2s/step - loss: 0.0494 - accuracy: 0.9818 - val_loss: 2.3730 - val_accuracy: 0.6458\n",
      "Epoch 37/50\n",
      "12/12 [==============================] - 22s 2s/step - loss: 0.0524 - accuracy: 0.9844 - val_loss: 2.8488 - val_accuracy: 0.5938\n",
      "Epoch 38/50\n",
      "12/12 [==============================] - 23s 2s/step - loss: 0.0520 - accuracy: 0.9844 - val_loss: 2.3185 - val_accuracy: 0.5729\n",
      "Epoch 39/50\n",
      "12/12 [==============================] - 23s 2s/step - loss: 0.0709 - accuracy: 0.9688 - val_loss: 1.8304 - val_accuracy: 0.5938\n",
      "Epoch 40/50\n",
      "12/12 [==============================] - 24s 2s/step - loss: 0.0711 - accuracy: 0.9766 - val_loss: 1.8880 - val_accuracy: 0.5938\n",
      "Epoch 41/50\n",
      "12/12 [==============================] - 23s 2s/step - loss: 0.0400 - accuracy: 0.9870 - val_loss: 2.1424 - val_accuracy: 0.5938\n",
      "Epoch 42/50\n",
      "12/12 [==============================] - 24s 2s/step - loss: 0.0285 - accuracy: 0.9948 - val_loss: 2.3570 - val_accuracy: 0.5938\n",
      "Epoch 43/50\n",
      "12/12 [==============================] - 25s 2s/step - loss: 0.0482 - accuracy: 0.9844 - val_loss: 2.6695 - val_accuracy: 0.5938\n",
      "Epoch 44/50\n",
      "12/12 [==============================] - 22s 2s/step - loss: 0.0468 - accuracy: 0.9818 - val_loss: 2.1413 - val_accuracy: 0.6042\n",
      "Epoch 45/50\n",
      "12/12 [==============================] - 22s 2s/step - loss: 0.0357 - accuracy: 0.9870 - val_loss: 2.0900 - val_accuracy: 0.6146\n",
      "Epoch 46/50\n",
      "12/12 [==============================] - 22s 2s/step - loss: 0.0778 - accuracy: 0.9844 - val_loss: 2.0815 - val_accuracy: 0.6458\n",
      "Epoch 47/50\n",
      "12/12 [==============================] - 23s 2s/step - loss: 0.0490 - accuracy: 0.9792 - val_loss: 1.9460 - val_accuracy: 0.6250\n",
      "Epoch 48/50\n",
      "12/12 [==============================] - 23s 2s/step - loss: 0.0458 - accuracy: 0.9870 - val_loss: 2.1704 - val_accuracy: 0.5938\n",
      "Epoch 49/50\n",
      "12/12 [==============================] - 22s 2s/step - loss: 0.0425 - accuracy: 0.9818 - val_loss: 2.2011 - val_accuracy: 0.6250\n",
      "Epoch 50/50\n",
      "12/12 [==============================] - 23s 2s/step - loss: 0.0604 - accuracy: 0.9844 - val_loss: 2.4355 - val_accuracy: 0.5521\n"
     ]
    }
   ],
   "source": [
    "\n",
    "from tensorflow.keras.utils import to_categorical\n",
    "categories = ['Footpath Quality', 'Waste', 'Obstruction', 'Unsafe Zone','Encroachment']\n",
    "\n",
    "for i in range (len(train_labels)):\n",
    "    train_labels[i] = categories.index(train_labels[i])\n",
    "num_categories = 5\n",
    "train_labels_encoded = to_categorical(train_labels, num_categories)\n",
    "\n",
    "\n",
    "batch_size = 32\n",
    "epochs = 50\n",
    "\n",
    "\n",
    "history = model.fit(train_data, train_labels_encoded, batch_size=batch_size, epochs=epochs, validation_split=0.2)\n"
   ]
  },
  {
   "cell_type": "code",
   "execution_count": 5,
   "id": "da04e226",
   "metadata": {},
   "outputs": [
    {
     "name": "stdout",
     "output_type": "stream",
     "text": [
      "4/4 [==============================] - 2s 435ms/step\n"
     ]
    }
   ],
   "source": [
    "x = model.predict(test_data)"
   ]
  },
  {
   "cell_type": "code",
   "execution_count": 6,
   "id": "bdccb3ae",
   "metadata": {},
   "outputs": [
    {
     "name": "stdout",
     "output_type": "stream",
     "text": [
      "120\n"
     ]
    }
   ],
   "source": [
    "import numpy as np  \n",
    "y = []\n",
    "for i in x:\n",
    "    y.append(np.argmax(i))\n",
    "print(len(y))\n"
   ]
  },
  {
   "cell_type": "code",
   "execution_count": 7,
   "id": "0f207ea5",
   "metadata": {},
   "outputs": [],
   "source": [
    "\n",
    "for i in range (len(test_labels)):\n",
    "    test_labels[i] = categories.index(test_labels[i])"
   ]
  },
  {
   "cell_type": "code",
   "execution_count": 8,
   "id": "fec30373",
   "metadata": {},
   "outputs": [
    {
     "data": {
      "text/plain": [
       "array(['4', '1', '4', '0', '2', '0', '0', '4', '0', '0', '0', '4', '2',\n",
       "       '1', '4', '4', '0', '4', '4', '1', '1', '2', '0', '4', '1', '1',\n",
       "       '0', '1', '0', '2', '4', '0', '0', '4', '0', '1', '1', '0', '1',\n",
       "       '0', '4', '0', '0', '1', '0', '1', '0', '0', '0', '1', '1', '0',\n",
       "       '4', '1', '4', '2', '2', '0', '1', '1', '0', '0', '4', '4', '1',\n",
       "       '4', '1', '1', '1', '1', '4', '0', '2', '0', '1', '0', '1', '0',\n",
       "       '1', '2', '4', '2', '0', '1', '4', '1', '1', '1', '1', '0', '4',\n",
       "       '0', '1', '0', '0', '2', '1', '1', '2', '4', '1', '4', '4', '2',\n",
       "       '0', '4', '1', '0', '0', '0', '0', '4', '0', '4', '4', '0', '0',\n",
       "       '0', '1', '0'], dtype='<U16')"
      ]
     },
     "execution_count": 8,
     "metadata": {},
     "output_type": "execute_result"
    }
   ],
   "source": [
    "test_labels"
   ]
  },
  {
   "cell_type": "code",
   "execution_count": 9,
   "id": "94c40f2d",
   "metadata": {},
   "outputs": [
    {
     "data": {
      "text/plain": [
       "[4,\n",
       " 4,\n",
       " 4,\n",
       " 2,\n",
       " 4,\n",
       " 0,\n",
       " 0,\n",
       " 4,\n",
       " 0,\n",
       " 4,\n",
       " 0,\n",
       " 1,\n",
       " 4,\n",
       " 0,\n",
       " 0,\n",
       " 4,\n",
       " 4,\n",
       " 4,\n",
       " 4,\n",
       " 1,\n",
       " 2,\n",
       " 4,\n",
       " 0,\n",
       " 4,\n",
       " 4,\n",
       " 2,\n",
       " 4,\n",
       " 1,\n",
       " 0,\n",
       " 2,\n",
       " 4,\n",
       " 0,\n",
       " 0,\n",
       " 4,\n",
       " 4,\n",
       " 1,\n",
       " 1,\n",
       " 2,\n",
       " 4,\n",
       " 0,\n",
       " 2,\n",
       " 0,\n",
       " 4,\n",
       " 1,\n",
       " 1,\n",
       " 0,\n",
       " 1,\n",
       " 1,\n",
       " 0,\n",
       " 4,\n",
       " 0,\n",
       " 4,\n",
       " 0,\n",
       " 0,\n",
       " 4,\n",
       " 2,\n",
       " 4,\n",
       " 0,\n",
       " 4,\n",
       " 0,\n",
       " 1,\n",
       " 1,\n",
       " 4,\n",
       " 4,\n",
       " 2,\n",
       " 4,\n",
       " 4,\n",
       " 0,\n",
       " 0,\n",
       " 4,\n",
       " 4,\n",
       " 2,\n",
       " 1,\n",
       " 0,\n",
       " 0,\n",
       " 4,\n",
       " 1,\n",
       " 0,\n",
       " 4,\n",
       " 2,\n",
       " 4,\n",
       " 4,\n",
       " 1,\n",
       " 0,\n",
       " 1,\n",
       " 1,\n",
       " 1,\n",
       " 0,\n",
       " 0,\n",
       " 4,\n",
       " 4,\n",
       " 2,\n",
       " 4,\n",
       " 4,\n",
       " 0,\n",
       " 2,\n",
       " 4,\n",
       " 1,\n",
       " 4,\n",
       " 4,\n",
       " 1,\n",
       " 4,\n",
       " 4,\n",
       " 2,\n",
       " 0,\n",
       " 1,\n",
       " 4,\n",
       " 0,\n",
       " 0,\n",
       " 4,\n",
       " 1,\n",
       " 2,\n",
       " 0,\n",
       " 4,\n",
       " 4,\n",
       " 0,\n",
       " 0,\n",
       " 0,\n",
       " 0,\n",
       " 0]"
      ]
     },
     "execution_count": 9,
     "metadata": {},
     "output_type": "execute_result"
    }
   ],
   "source": [
    "y\n"
   ]
  },
  {
   "cell_type": "code",
   "execution_count": 10,
   "id": "ee95ab2c",
   "metadata": {},
   "outputs": [],
   "source": [
    "image_path = r'C:\\Users\\anush\\Desktop\\trial.jpg'"
   ]
  },
  {
   "cell_type": "code",
   "execution_count": 11,
   "id": "59ccc864",
   "metadata": {},
   "outputs": [
    {
     "data": {
      "image/jpeg": "[encoded data removed]",
      "text/plain": [
       "<IPython.core.display.Image object>"
      ]
     },
     "metadata": {},
     "output_type": "display_data"
    }
   ],
   "source": [
    "from IPython.display import Image, display\n",
    "display(Image(filename=image_path))"
   ]
  },
  {
   "cell_type": "code",
   "execution_count": 12,
   "id": "88780c96",
   "metadata": {},
   "outputs": [],
   "source": [
    "image = cv2.imread(image_path)\n",
    "image = cv2.resize(image, (224, 224))  # Resize image to (224, 224) or any other desired size\n",
    "image = image.astype('float32') / 255.0  # Normalize pixel values to [0, 1]"
   ]
  },
  {
   "cell_type": "code",
   "execution_count": 13,
   "id": "64886e89",
   "metadata": {},
   "outputs": [],
   "source": [
    "image_data = []\n",
    "image_data.append(image)\n",
    "image_data = np.array(image_data)"
   ]
  },
  {
   "cell_type": "code",
   "execution_count": 14,
   "id": "3cc07772",
   "metadata": {},
   "outputs": [
    {
     "name": "stdout",
     "output_type": "stream",
     "text": [
      "1/1 [==============================] - 0s 92ms/step\n"
     ]
    }
   ],
   "source": [
    "x = model.predict(image_data)"
   ]
  },
  {
   "cell_type": "code",
   "execution_count": 15,
   "id": "e5958f3f",
   "metadata": {
    "scrolled": true
   },
   "outputs": [
    {
     "data": {
      "text/plain": [
       "2"
      ]
     },
     "execution_count": 15,
     "metadata": {},
     "output_type": "execute_result"
    }
   ],
   "source": [
    "np.argmax(x)"
   ]
  },
  {
   "cell_type": "code",
   "execution_count": 16,
   "id": "2720900d",
   "metadata": {},
   "outputs": [
    {
     "data": {
      "text/plain": [
       "'Encroachment'"
      ]
     },
     "execution_count": 16,
     "metadata": {},
     "output_type": "execute_result"
    }
   ],
   "source": [
    "categories[4]"
   ]
  },
  {
   "cell_type": "code",
   "execution_count": 17,
   "id": "30f2cdbb",
   "metadata": {},
   "outputs": [],
   "source": [
    "image_path = r'C:\\Users\\anush\\Desktop\\trial1.jpg'"
   ]
  },
  {
   "cell_type": "code",
   "execution_count": 18,
   "id": "a1e404e3",
   "metadata": {},
   "outputs": [
    {
     "data": {
      "image/jpeg": "[encoded data removed]",
      "text/plain": [
       "<IPython.core.display.Image object>"
      ]
     },
     "metadata": {},
     "output_type": "display_data"
    }
   ],
   "source": [
    "from IPython.display import Image, display\n",
    "display(Image(filename=image_path))"
   ]
  },
  {
   "cell_type": "code",
   "execution_count": 19,
   "id": "50cc94d2",
   "metadata": {},
   "outputs": [],
   "source": [
    "image = cv2.imread(image_path)\n",
    "image = cv2.resize(image, (224, 224))  # Resize image to (224, 224) or any other desired size\n",
    "image = image.astype('float32') / 255.0  # Normalize pixel values to [0, 1]"
   ]
  },
  {
   "cell_type": "code",
   "execution_count": 20,
   "id": "aa54f87d",
   "metadata": {},
   "outputs": [],
   "source": [
    "image_data = []\n",
    "image_data.append(image)\n",
    "image_data = np.array(image_data)"
   ]
  },
  {
   "cell_type": "code",
   "execution_count": 21,
   "id": "7794d2ec",
   "metadata": {},
   "outputs": [
    {
     "name": "stdout",
     "output_type": "stream",
     "text": [
      "1/1 [==============================] - 0s 83ms/step\n"
     ]
    }
   ],
   "source": [
    "x = model.predict(image_data)"
   ]
  },
  {
   "cell_type": "code",
   "execution_count": 27,
   "id": "22557815",
   "metadata": {
    "scrolled": true
   },
   "outputs": [
    {
     "data": {
      "text/plain": [
       "'Footpath Quality'"
      ]
     },
     "execution_count": 27,
     "metadata": {},
     "output_type": "execute_result"
    }
   ],
   "source": [
    "categories[np.argmax(x)]"
   ]
  },
  {
   "cell_type": "code",
   "execution_count": 24,
   "id": "8426dc87",
   "metadata": {},
   "outputs": [],
   "source": [
    "model.save(\"model.h5\")"
   ]
  }
 ],
 "metadata": {
  "kernelspec": {
   "display_name": "Python 3",
   "language": "python",
   "name": "python3"
  },
  "language_info": {
   "codemirror_mode": {
    "name": "ipython",
    "version": 3
   },
   "file_extension": ".py",
   "mimetype": "text/x-python",
   "name": "python",
   "nbconvert_exporter": "python",
   "pygments_lexer": "ipython3",
   "version": "3.8.8"
  }
 },
 "nbformat": 4,
 "nbformat_minor": 5
}
